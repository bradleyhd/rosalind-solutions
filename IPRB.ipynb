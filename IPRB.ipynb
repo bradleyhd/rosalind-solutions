{
 "metadata": {
  "name": "",
  "signature": "sha256:b5373c5febf850d147d311bd33745da2793e2f045f0a85a981e967d980d43b92"
 },
 "nbformat": 3,
 "nbformat_minor": 0,
 "worksheets": [
  {
   "cells": [
    {
     "cell_type": "code",
     "collapsed": false,
     "input": [
      "k = 26.0\n",
      "m = 18.0\n",
      "n = 20.0"
     ],
     "language": "python",
     "metadata": {},
     "outputs": [],
     "prompt_number": 17
    },
    {
     "cell_type": "code",
     "collapsed": false,
     "input": [
      "s = k + m + n\n",
      "\n",
      "rr_rr = (n/s) * ((n-1)/(s-1)) * 1\n",
      "rr_Dr = (n/s) * (m/(s-1)) * 0.5\n",
      "Dr_rr = (m/s) * (n/(s-1)) * 0.5\n",
      "Dr_Dr = (m/s) * ((m-1)/(s-1)) * 0.25\n",
      "\n",
      "p = 1 - (rr_rr + rr_Dr + Dr_rr + Dr_Dr)\n",
      "print(p)\n"
     ],
     "language": "python",
     "metadata": {},
     "outputs": [
      {
       "output_type": "stream",
       "stream": "stdout",
       "text": [
        "0.797495039683\n"
       ]
      }
     ],
     "prompt_number": 18
    },
    {
     "cell_type": "code",
     "collapsed": false,
     "input": [],
     "language": "python",
     "metadata": {},
     "outputs": []
    }
   ],
   "metadata": {}
  }
 ]
}