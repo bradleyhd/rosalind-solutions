{
 "metadata": {
  "name": "",
  "signature": "sha256:3369cc891fb64f8c6d70de940ac7b5c9f5dd5592e94b8815ad566c8fe2e27381"
 },
 "nbformat": 3,
 "nbformat_minor": 0,
 "worksheets": [
  {
   "cells": [
    {
     "cell_type": "code",
     "collapsed": false,
     "input": [
      "s = 'GGCTAATGTTACGTCAGTAGCCTTAATCTGTTCAGTAAATTATAACCTGTCGTTTCTGCGCAAGGGGCGTCAGAGCAGGTGTGCTGCAGTAGGCATTATTGCGGTCGAAGAATTCTGCCGGAGACGCGTCTGCATATTCCAACCTTGCCAGAAAGTGGGCATAACTTTCAAATGTGGTTCGTTGCGAACGAGAGTCGAGAGGGCGATATCTCTCGGCACGAACATACGTAGATAGCCTGAAGTATGGGAGTTTCCAAACGTCCGTAATGGACCCCCCCGGCGCCACCGCTGAACTCATGTTAATGACATGTGCCGGACCGCCCACCACTAACACTGCCACGCTAGAAAGCTTTCACGTCATGGAACAACTTGCATCTTTCCCGAATTATACGAGAGATCACGATAGAGGTCCCGCCACGCATGTTTTTGGCGGTTGAGGTCAAGGACTGACACCAAGGTATAGGTCAAGCTAGTCCTAGCGGAGCTTGATGTCGGCGCTTATGGTGGGCGCTGGCTTATGCTCGTGGGGATATATTATTAACCATTGCCTATACGAGTCGCGCTCTAGGCGTCCCTTGTCCGTACCGGCGTTCGTTTCATAGCACGCGTATAAACCGGACGCTGAGAGGTCGCGCATTGGGGTTACCACCACCGATATATCATTCGGAAAGTCTCCCGAGGGCTTCTTAAGGTCGATCGCGTGCCGCATTATTGATAATACAAAATATAACCCACGAGATATGTCTCCGTTCTGATACGGAGCGACGTTTTTTCTGAAGATACTGGTTTGTCAAGGCCTACGCATTTATGCGCAGACGGCACCGCTATCGTGTACCGTTGACTCGATTGTCAATTATATTACCCTACGTACATTCACGACTCGAGTGCGTTCAAAGCACACCCGATGGCGGATATTTACTGCCCCCCGCAAGCGCACCCCTCCCAGTCCTTCTTAGATAC'"
     ],
     "language": "python",
     "metadata": {},
     "outputs": [],
     "prompt_number": 7
    },
    {
     "cell_type": "code",
     "collapsed": false,
     "input": [
      "def letters(s):\n",
      "    dict = {}\n",
      "    for c in s:\n",
      "        if c in dict:\n",
      "            dict[c] += 1\n",
      "        else:\n",
      "            dict[c] = 1\n",
      "    print(dict['A'], dict['C'], dict['G'], dict['T'])\n",
      "    return dict"
     ],
     "language": "python",
     "metadata": {},
     "outputs": [],
     "prompt_number": 5
    },
    {
     "cell_type": "code",
     "collapsed": false,
     "input": [
      "letters(s)"
     ],
     "language": "python",
     "metadata": {},
     "outputs": [
      {
       "output_type": "stream",
       "stream": "stdout",
       "text": [
        "227 249 240 244\n"
       ]
      },
      {
       "metadata": {},
       "output_type": "pyout",
       "prompt_number": 8,
       "text": [
        "{'G': 240, 'T': 244, 'C': 249, 'A': 227}"
       ]
      }
     ],
     "prompt_number": 8
    },
    {
     "cell_type": "code",
     "collapsed": false,
     "input": [],
     "language": "python",
     "metadata": {},
     "outputs": []
    }
   ],
   "metadata": {}
  }
 ]
}